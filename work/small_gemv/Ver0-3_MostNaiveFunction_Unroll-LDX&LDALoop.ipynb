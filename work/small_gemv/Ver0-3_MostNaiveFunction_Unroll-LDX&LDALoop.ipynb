{
 "cells": [
  {
   "cell_type": "code",
   "execution_count": 15,
   "metadata": {},
   "outputs": [],
   "source": [
    "# void mydgemv_n_ver0_0(double a[], double x[], double y[], int64_t lda, int64_t ldx, int64_t ldy){\n",
    "#     for (int64_t i=0; i<lda; i++){\n",
    "#         y[i] = 0.0;\n",
    "#     }\n",
    "\n",
    "#     int64_t i_remain=lda % 2, k_remain=ldx % 2;\n",
    "#     double tmp_x;\n",
    "#     for (int64_t k=0; k<ldx-k_remain; k+=2){\n",
    "#         tmp_x_0 = x[k+0]; tmp_x_1 = x[k+1];\n",
    "#         for (int64_t i=0; i<lda-i_remain; i+=2){\n",
    "#             y[i+0] += a[i+0 + (k+0)*lda] * tmp_x_0;\n",
    "#             y[i+1] += a[i+1 + (k+0)*lda] * tmp_x_0;\n",
    "#             y[i+0] += a[i+0 + (k+1)*lda] * tmp_x_1;\n",
    "#             y[i+1] += a[i+1 + (k+1)*lda] * tmp_x_1;\n",
    "#         }\n",
    "#         for (int64_t i=lda-i_remain; i<lda; i++){\n",
    "#             y[i] += a[i + (k+0)*lda] * tmp_x_0;\n",
    "#             y[i] += a[i + (k+1)*lda] * tmp_x_1;\n",
    "#         }        \n",
    "#     }\n",
    "\n",
    "#     for (int64_t k=ldx-k_remain; k<ldx; k++){\n",
    "#         tmp_x_0 = x[k+0];\n",
    "#         for (int64_t i=0; i<lda-i_remain; i+=2){\n",
    "#             y[i+0] += a[i+0 + (k+0)*lda] * tmp_x_0;\n",
    "#             y[i+1] += a[i+1 + (k+0)*lda] * tmp_x_0;\n",
    "#         }\n",
    "#         for (int64_t i=lda-i_remain; i<lda; i++){\n",
    "#             y[i] += a[i + (k+0)*lda] * tmp_x_0;\n",
    "#         }        \n",
    "#     }\n",
    "# }"
   ]
  },
  {
   "cell_type": "code",
   "execution_count": 16,
   "metadata": {},
   "outputs": [],
   "source": [
    "# K_MAX = 4\n",
    "# I_MAX = 4\n",
    "# for unroll_k in range(1, K_MAX+1, 1):\n",
    "#     for unroll_i in range(1, I_MAX+1, 1):\n",
    "#         declare_x = \"double \" + \", \".join([f\"tmp_x_{k}\" for k in range(unroll_k)])\n",
    "        \n",
    "#         remain_k, remain_i = \"\", \"\"\n",
    "        \n",
    "#         unroll_op_k = \"\"\n",
    "        \n",
    "        \n",
    "        \n",
    "#         code =  f\"\"\"\n",
    "# void mydgemv_n_ver0_3_unroll_{unroll_k}_{unroll_i}(double a[], double x[], double y[], int64_t lda, int64_t ldx, int64_t ldy){{\n",
    "#     for (int64_t i=0; i<lda; i++){{\n",
    "#         y[i] = 0.0;\n",
    "#     }}\n",
    "    \n",
    "#     int64_t i_remain=lda % {unroll_i}, k_remain=ldx % {unroll_k};\n",
    "#     {declare_x};\n",
    "#     for (int64_t k=0; k<ldx-k_remain; k+={unroll_k}){{\n",
    "    \n",
    "#     }}\n",
    "# }}\n",
    "#             \"\"\"\n",
    "#         print(code)"
   ]
  },
  {
   "cell_type": "code",
   "execution_count": null,
   "metadata": {},
   "outputs": [],
   "source": []
  }
 ],
 "metadata": {
  "kernelspec": {
   "display_name": "Python 3",
   "language": "python",
   "name": "python3"
  },
  "language_info": {
   "codemirror_mode": {
    "name": "ipython",
    "version": 3
   },
   "file_extension": ".py",
   "mimetype": "text/x-python",
   "name": "python",
   "nbconvert_exporter": "python",
   "pygments_lexer": "ipython3",
   "version": "3.7.4"
  }
 },
 "nbformat": 4,
 "nbformat_minor": 4
}
