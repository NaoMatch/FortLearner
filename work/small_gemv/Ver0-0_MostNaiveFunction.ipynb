{
 "cells": [
  {
   "cell_type": "code",
   "execution_count": 1,
   "metadata": {},
   "outputs": [],
   "source": [
    "with open(f\"./small_dgemv_naive_c_implementation_ver0-0_Naive.c\", \"w\") as f:\n",
    "    code = f\"\"\"#include <stdint.h>\n",
    "\n",
    "void mydgemv_n_ver0_0(double a[], double x[], double y[], int64_t lda, int64_t ldx, int64_t ldy){{\n",
    "    for (int64_t i=0; i<lda; i++){{\n",
    "        y[i] = 0.0;\n",
    "    }}\n",
    "\n",
    "    double tmp_x;\n",
    "    for (int64_t k=0; k<ldx; k++){{\n",
    "        tmp_x = x[k];\n",
    "        for (int64_t i=0; i<lda; i++){{\n",
    "            y[i] += a[i + k*lda] * tmp_x;\n",
    "        }}\n",
    "    }}\n",
    "}}\n",
    "\n",
    "void mydgemv_t_ver0_0(double a_t[], double x[], double y[], int64_t lda, int64_t ldx, int64_t ldy){{\n",
    "    double tmp;\n",
    "\n",
    "    for (int64_t i=0; i<lda; i++){{\n",
    "        tmp = 0.0;\n",
    "        for (int64_t k=0; k<ldx; k++){{\n",
    "            tmp += a_t[k + i*ldx] * x[k];\n",
    "        }}\n",
    "        y[i] = tmp;\n",
    "    }}\n",
    "}}\n",
    "    \"\"\"\n",
    "    f.write(code)"
   ]
  },
  {
   "cell_type": "code",
   "execution_count": null,
   "metadata": {},
   "outputs": [],
   "source": []
  }
 ],
 "metadata": {
  "kernelspec": {
   "display_name": "Python 3",
   "language": "python",
   "name": "python3"
  },
  "language_info": {
   "codemirror_mode": {
    "name": "ipython",
    "version": 3
   },
   "file_extension": ".py",
   "mimetype": "text/x-python",
   "name": "python",
   "nbconvert_exporter": "python",
   "pygments_lexer": "ipython3",
   "version": "3.7.4"
  }
 },
 "nbformat": 4,
 "nbformat_minor": 4
}
